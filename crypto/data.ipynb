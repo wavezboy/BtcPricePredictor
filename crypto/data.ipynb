{
 "cells": [
  {
   "cell_type": "code",
   "execution_count": 2,
   "metadata": {},
   "outputs": [],
   "source": [
    "import requests\n",
    "import pandas as pd"
   ]
  },
  {
   "cell_type": "code",
   "execution_count": 3,
   "metadata": {},
   "outputs": [],
   "source": [
    "def fetch(cryptoId= 'bitcoin', vsCurrency='usd'):\n",
    "    url = f'https://api.coingecko.com/api/v3/coins/{cryptoId}/market_chart'\n",
    "    params = {\n",
    "        'vs_currency': vsCurrency,\n",
    "        'days': '30',  # Fetch data for the last 30 days\n",
    "        # 'interval': 'hourly'  # Use 'daily' interval for daily data\n",
    "    }\n",
    "    response = requests.get(url, params=params)\n",
    "    if response.status_code != 200:\n",
    "        raise Exception(f\"API request failed with status code {response.status_code}: {response.text}\")\n",
    "    \n",
    "    data = response.json()\n",
    "    prices = data['prices']  # List of [timestamp, price]\n",
    "    df = pd.DataFrame(prices, columns=[\"timestamp\", \"price\"] )\n",
    "    df['timestamp'] = pd.to_datetime(df['timestamp'], unit='ms')\n",
    "    return df\n",
    "    "
   ]
  },
  {
   "cell_type": "code",
   "execution_count": 4,
   "metadata": {},
   "outputs": [],
   "source": [
    "df =fetch()"
   ]
  },
  {
   "cell_type": "code",
   "execution_count": 5,
   "metadata": {},
   "outputs": [
    {
     "data": {
      "text/html": [
       "<div>\n",
       "<style scoped>\n",
       "    .dataframe tbody tr th:only-of-type {\n",
       "        vertical-align: middle;\n",
       "    }\n",
       "\n",
       "    .dataframe tbody tr th {\n",
       "        vertical-align: top;\n",
       "    }\n",
       "\n",
       "    .dataframe thead th {\n",
       "        text-align: right;\n",
       "    }\n",
       "</style>\n",
       "<table border=\"1\" class=\"dataframe\">\n",
       "  <thead>\n",
       "    <tr style=\"text-align: right;\">\n",
       "      <th></th>\n",
       "      <th>timestamp</th>\n",
       "      <th>price</th>\n",
       "    </tr>\n",
       "  </thead>\n",
       "  <tbody>\n",
       "    <tr>\n",
       "      <th>715</th>\n",
       "      <td>2024-08-15 18:09:40.880</td>\n",
       "      <td>58148.516633</td>\n",
       "    </tr>\n",
       "    <tr>\n",
       "      <th>716</th>\n",
       "      <td>2024-08-15 19:18:57.013</td>\n",
       "      <td>57182.569052</td>\n",
       "    </tr>\n",
       "    <tr>\n",
       "      <th>717</th>\n",
       "      <td>2024-08-15 20:18:24.902</td>\n",
       "      <td>57182.199562</td>\n",
       "    </tr>\n",
       "    <tr>\n",
       "      <th>718</th>\n",
       "      <td>2024-08-15 21:08:06.000</td>\n",
       "      <td>56765.926472</td>\n",
       "    </tr>\n",
       "    <tr>\n",
       "      <th>719</th>\n",
       "      <td>2024-08-15 22:10:02.000</td>\n",
       "      <td>57487.554571</td>\n",
       "    </tr>\n",
       "  </tbody>\n",
       "</table>\n",
       "</div>"
      ],
      "text/plain": [
       "                  timestamp         price\n",
       "715 2024-08-15 18:09:40.880  58148.516633\n",
       "716 2024-08-15 19:18:57.013  57182.569052\n",
       "717 2024-08-15 20:18:24.902  57182.199562\n",
       "718 2024-08-15 21:08:06.000  56765.926472\n",
       "719 2024-08-15 22:10:02.000  57487.554571"
      ]
     },
     "execution_count": 5,
     "metadata": {},
     "output_type": "execute_result"
    }
   ],
   "source": [
    "df.tail()"
   ]
  },
  {
   "cell_type": "code",
   "execution_count": 6,
   "metadata": {},
   "outputs": [
    {
     "data": {
      "text/html": [
       "<div>\n",
       "<style scoped>\n",
       "    .dataframe tbody tr th:only-of-type {\n",
       "        vertical-align: middle;\n",
       "    }\n",
       "\n",
       "    .dataframe tbody tr th {\n",
       "        vertical-align: top;\n",
       "    }\n",
       "\n",
       "    .dataframe thead th {\n",
       "        text-align: right;\n",
       "    }\n",
       "</style>\n",
       "<table border=\"1\" class=\"dataframe\">\n",
       "  <thead>\n",
       "    <tr style=\"text-align: right;\">\n",
       "      <th></th>\n",
       "      <th>price</th>\n",
       "    </tr>\n",
       "    <tr>\n",
       "      <th>timestamp</th>\n",
       "      <th></th>\n",
       "    </tr>\n",
       "  </thead>\n",
       "  <tbody>\n",
       "    <tr>\n",
       "      <th>2024-08-15 18:09:40.880</th>\n",
       "      <td>58148.516633</td>\n",
       "    </tr>\n",
       "    <tr>\n",
       "      <th>2024-08-15 19:18:57.013</th>\n",
       "      <td>57182.569052</td>\n",
       "    </tr>\n",
       "    <tr>\n",
       "      <th>2024-08-15 20:18:24.902</th>\n",
       "      <td>57182.199562</td>\n",
       "    </tr>\n",
       "    <tr>\n",
       "      <th>2024-08-15 21:08:06.000</th>\n",
       "      <td>56765.926472</td>\n",
       "    </tr>\n",
       "    <tr>\n",
       "      <th>2024-08-15 22:10:02.000</th>\n",
       "      <td>57487.554571</td>\n",
       "    </tr>\n",
       "  </tbody>\n",
       "</table>\n",
       "</div>"
      ],
      "text/plain": [
       "                                price\n",
       "timestamp                            \n",
       "2024-08-15 18:09:40.880  58148.516633\n",
       "2024-08-15 19:18:57.013  57182.569052\n",
       "2024-08-15 20:18:24.902  57182.199562\n",
       "2024-08-15 21:08:06.000  56765.926472\n",
       "2024-08-15 22:10:02.000  57487.554571"
      ]
     },
     "execution_count": 6,
     "metadata": {},
     "output_type": "execute_result"
    }
   ],
   "source": [
    "df.set_index('timestamp', inplace=True)\n",
    "df.tail()"
   ]
  },
  {
   "cell_type": "code",
   "execution_count": 7,
   "metadata": {},
   "outputs": [
    {
     "data": {
      "text/html": [
       "<div>\n",
       "<style scoped>\n",
       "    .dataframe tbody tr th:only-of-type {\n",
       "        vertical-align: middle;\n",
       "    }\n",
       "\n",
       "    .dataframe tbody tr th {\n",
       "        vertical-align: top;\n",
       "    }\n",
       "\n",
       "    .dataframe thead th {\n",
       "        text-align: right;\n",
       "    }\n",
       "</style>\n",
       "<table border=\"1\" class=\"dataframe\">\n",
       "  <thead>\n",
       "    <tr style=\"text-align: right;\">\n",
       "      <th></th>\n",
       "      <th>open</th>\n",
       "      <th>high</th>\n",
       "      <th>low</th>\n",
       "      <th>close</th>\n",
       "      <th>return</th>\n",
       "    </tr>\n",
       "    <tr>\n",
       "      <th>timestamp</th>\n",
       "      <th></th>\n",
       "      <th></th>\n",
       "      <th></th>\n",
       "      <th></th>\n",
       "      <th></th>\n",
       "    </tr>\n",
       "  </thead>\n",
       "  <tbody>\n",
       "    <tr>\n",
       "      <th>2024-08-06 13:00:00</th>\n",
       "      <td>54822.418107</td>\n",
       "      <td>54822.418107</td>\n",
       "      <td>54822.418107</td>\n",
       "      <td>54822.418107</td>\n",
       "      <td>-0.007327</td>\n",
       "    </tr>\n",
       "    <tr>\n",
       "      <th>2024-08-06 17:00:00</th>\n",
       "      <td>56943.221647</td>\n",
       "      <td>56943.221647</td>\n",
       "      <td>56943.221647</td>\n",
       "      <td>56943.221647</td>\n",
       "      <td>0.010164</td>\n",
       "    </tr>\n",
       "    <tr>\n",
       "      <th>2024-08-07 03:00:00</th>\n",
       "      <td>56768.594557</td>\n",
       "      <td>56768.594557</td>\n",
       "      <td>56768.594557</td>\n",
       "      <td>56768.594557</td>\n",
       "      <td>-0.008676</td>\n",
       "    </tr>\n",
       "    <tr>\n",
       "      <th>2024-08-07 10:00:00</th>\n",
       "      <td>57356.352899</td>\n",
       "      <td>57356.352899</td>\n",
       "      <td>57356.352899</td>\n",
       "      <td>57356.352899</td>\n",
       "      <td>-0.002724</td>\n",
       "    </tr>\n",
       "    <tr>\n",
       "      <th>2024-08-07 17:00:00</th>\n",
       "      <td>56228.692331</td>\n",
       "      <td>56228.692331</td>\n",
       "      <td>56228.692331</td>\n",
       "      <td>56228.692331</td>\n",
       "      <td>-0.000025</td>\n",
       "    </tr>\n",
       "  </tbody>\n",
       "</table>\n",
       "</div>"
      ],
      "text/plain": [
       "                             open          high           low         close  \\\n",
       "timestamp                                                                     \n",
       "2024-08-06 13:00:00  54822.418107  54822.418107  54822.418107  54822.418107   \n",
       "2024-08-06 17:00:00  56943.221647  56943.221647  56943.221647  56943.221647   \n",
       "2024-08-07 03:00:00  56768.594557  56768.594557  56768.594557  56768.594557   \n",
       "2024-08-07 10:00:00  57356.352899  57356.352899  57356.352899  57356.352899   \n",
       "2024-08-07 17:00:00  56228.692331  56228.692331  56228.692331  56228.692331   \n",
       "\n",
       "                       return  \n",
       "timestamp                      \n",
       "2024-08-06 13:00:00 -0.007327  \n",
       "2024-08-06 17:00:00  0.010164  \n",
       "2024-08-07 03:00:00 -0.008676  \n",
       "2024-08-07 10:00:00 -0.002724  \n",
       "2024-08-07 17:00:00 -0.000025  "
      ]
     },
     "execution_count": 7,
     "metadata": {},
     "output_type": "execute_result"
    }
   ],
   "source": [
    "ohlc = df['price'].resample('30min').ohlc()\n",
    "ohlc[\"return\"] = ohlc['close'].pct_change(fill_method=None)\n",
    "ohlc.dropna(inplace=True)\n",
    "ohlc.tail()"
   ]
  },
  {
   "cell_type": "code",
   "execution_count": 8,
   "metadata": {},
   "outputs": [],
   "source": [
    "from sklearn.linear_model import LinearRegression\n",
    "from sklearn.model_selection import train_test_split"
   ]
  },
  {
   "cell_type": "code",
   "execution_count": 9,
   "metadata": {},
   "outputs": [],
   "source": [
    "X = ohlc[[\"open\", 'high', 'low', 'return']].values\n",
    "y = ohlc['close'].shift(-1).dropna().values\n",
    "\n",
    "X = X[:-1]\n",
    "\n",
    "X_train, X_test, y_train, y_test = train_test_split(X, y, test_size=0.2, random_state=42)\n",
    "\n",
    "\n",
    "\n"
   ]
  },
  {
   "cell_type": "code",
   "execution_count": 10,
   "metadata": {},
   "outputs": [
    {
     "name": "stdout",
     "output_type": "stream",
     "text": [
      "Model R^2 score: 0.9413871083390957\n"
     ]
    }
   ],
   "source": [
    "model = LinearRegression()\n",
    "model.fit(X_train, y_train)\n",
    "print(f'Model R^2 score: {model.score(X_test, y_test)}')"
   ]
  },
  {
   "cell_type": "code",
   "execution_count": 11,
   "metadata": {},
   "outputs": [
    {
     "name": "stdout",
     "output_type": "stream",
     "text": [
      "Model R^2 score: 0.9611165308889182\n"
     ]
    }
   ],
   "source": [
    "from xgboost import XGBRegressor\n",
    "\n",
    "model2 = XGBRegressor(objective='reg:squarederror',  n_estimators=100, learning_rate=0.05)\n",
    "model2.fit(X_train, y_train)\n",
    "print(f'Model R^2 score: {model2.score(X_test, y_test)}')\n"
   ]
  },
  {
   "cell_type": "code",
   "execution_count": 12,
   "metadata": {},
   "outputs": [],
   "source": [
    "import joblib\n",
    "def save_model(model, filepath='crypto_model2.pkl'):\n",
    "    joblib.dump(model, filepath)\n",
    "\n",
    "save_model(model2)"
   ]
  },
  {
   "cell_type": "code",
   "execution_count": 13,
   "metadata": {},
   "outputs": [],
   "source": [
    "import ccxt"
   ]
  },
  {
   "cell_type": "code",
   "execution_count": 18,
   "metadata": {},
   "outputs": [],
   "source": [
    "# exchange = ccxt.bybit()\n",
    "# ohlv = exchange.fetch_ohlcv('BTC/USDT', timeframe='1d', limit=1)"
   ]
  },
  {
   "cell_type": "code",
   "execution_count": 15,
   "metadata": {},
   "outputs": [],
   "source": [
    "import yfinance as yf"
   ]
  },
  {
   "cell_type": "code",
   "execution_count": 30,
   "metadata": {},
   "outputs": [
    {
     "name": "stderr",
     "output_type": "stream",
     "text": [
      "[*********************100%%**********************]  1 of 1 completed"
     ]
    },
    {
     "name": "stdout",
     "output_type": "stream",
     "text": [
      "                             Open          High           Low         Close  \\\n",
      "Datetime                                                                      \n",
      "2024-07-01 00:00:00  62673.605469  62675.726562  62510.226562  62648.875000   \n",
      "2024-07-01 00:30:00  62622.617188  62820.148438  62611.332031  62820.148438   \n",
      "2024-07-01 01:00:00  62837.519531  63556.449219  62836.957031  63395.187500   \n",
      "2024-07-01 01:30:00  63390.902344  63567.218750  63390.902344  63531.328125   \n",
      "2024-07-01 02:00:00  63529.867188  63700.453125  63449.398438  63463.726562   \n",
      "...                           ...           ...           ...           ...   \n",
      "2024-08-14 21:30:00  59112.960938  59112.960938  58906.050781  58906.050781   \n",
      "2024-08-14 22:00:00  58924.429688  58945.265625  58584.503906  58902.156250   \n",
      "2024-08-14 22:30:00  58916.050781  59014.472656  58847.753906  58981.777344   \n",
      "2024-08-14 23:00:00  58987.371094  59010.570312  58939.402344  58939.402344   \n",
      "2024-08-14 23:30:00  58954.160156  58954.160156  58732.335938  58749.320312   \n",
      "\n",
      "                        Adj Close      Volume  \n",
      "Datetime                                       \n",
      "2024-07-01 00:00:00  62648.875000   285476864  \n",
      "2024-07-01 00:30:00  62820.148438   232824832  \n",
      "2024-07-01 01:00:00  63395.187500  1179906048  \n",
      "2024-07-01 01:30:00  63531.328125   513540096  \n",
      "2024-07-01 02:00:00  63463.726562   823590912  \n",
      "...                           ...         ...  \n",
      "2024-08-14 21:30:00  58906.050781    10428416  \n",
      "2024-08-14 22:00:00  58902.156250   189612032  \n",
      "2024-08-14 22:30:00  58981.777344    30433280  \n",
      "2024-08-14 23:00:00  58939.402344    55711744  \n",
      "2024-08-14 23:30:00  58749.320312    30574592  \n",
      "\n",
      "[2160 rows x 6 columns]\n"
     ]
    },
    {
     "name": "stderr",
     "output_type": "stream",
     "text": [
      "\n"
     ]
    }
   ],
   "source": [
    "btc_data = yf.download(tickers='BTC-USD', start='2024-07-01', end='2024-08-15', interval='30m')"
   ]
  },
  {
   "cell_type": "code",
   "execution_count": 32,
   "metadata": {},
   "outputs": [
    {
     "data": {
      "text/html": [
       "<div>\n",
       "<style scoped>\n",
       "    .dataframe tbody tr th:only-of-type {\n",
       "        vertical-align: middle;\n",
       "    }\n",
       "\n",
       "    .dataframe tbody tr th {\n",
       "        vertical-align: top;\n",
       "    }\n",
       "\n",
       "    .dataframe thead th {\n",
       "        text-align: right;\n",
       "    }\n",
       "</style>\n",
       "<table border=\"1\" class=\"dataframe\">\n",
       "  <thead>\n",
       "    <tr style=\"text-align: right;\">\n",
       "      <th></th>\n",
       "      <th>Open</th>\n",
       "      <th>High</th>\n",
       "      <th>Low</th>\n",
       "      <th>Close</th>\n",
       "      <th>Adj Close</th>\n",
       "      <th>Volume</th>\n",
       "    </tr>\n",
       "    <tr>\n",
       "      <th>Datetime</th>\n",
       "      <th></th>\n",
       "      <th></th>\n",
       "      <th></th>\n",
       "      <th></th>\n",
       "      <th></th>\n",
       "      <th></th>\n",
       "    </tr>\n",
       "  </thead>\n",
       "  <tbody>\n",
       "    <tr>\n",
       "      <th>2024-08-14 21:30:00</th>\n",
       "      <td>59112.960938</td>\n",
       "      <td>59112.960938</td>\n",
       "      <td>58906.050781</td>\n",
       "      <td>58906.050781</td>\n",
       "      <td>58906.050781</td>\n",
       "      <td>10428416</td>\n",
       "    </tr>\n",
       "    <tr>\n",
       "      <th>2024-08-14 22:00:00</th>\n",
       "      <td>58924.429688</td>\n",
       "      <td>58945.265625</td>\n",
       "      <td>58584.503906</td>\n",
       "      <td>58902.156250</td>\n",
       "      <td>58902.156250</td>\n",
       "      <td>189612032</td>\n",
       "    </tr>\n",
       "    <tr>\n",
       "      <th>2024-08-14 22:30:00</th>\n",
       "      <td>58916.050781</td>\n",
       "      <td>59014.472656</td>\n",
       "      <td>58847.753906</td>\n",
       "      <td>58981.777344</td>\n",
       "      <td>58981.777344</td>\n",
       "      <td>30433280</td>\n",
       "    </tr>\n",
       "    <tr>\n",
       "      <th>2024-08-14 23:00:00</th>\n",
       "      <td>58987.371094</td>\n",
       "      <td>59010.570312</td>\n",
       "      <td>58939.402344</td>\n",
       "      <td>58939.402344</td>\n",
       "      <td>58939.402344</td>\n",
       "      <td>55711744</td>\n",
       "    </tr>\n",
       "    <tr>\n",
       "      <th>2024-08-14 23:30:00</th>\n",
       "      <td>58954.160156</td>\n",
       "      <td>58954.160156</td>\n",
       "      <td>58732.335938</td>\n",
       "      <td>58749.320312</td>\n",
       "      <td>58749.320312</td>\n",
       "      <td>30574592</td>\n",
       "    </tr>\n",
       "  </tbody>\n",
       "</table>\n",
       "</div>"
      ],
      "text/plain": [
       "                             Open          High           Low         Close  \\\n",
       "Datetime                                                                      \n",
       "2024-08-14 21:30:00  59112.960938  59112.960938  58906.050781  58906.050781   \n",
       "2024-08-14 22:00:00  58924.429688  58945.265625  58584.503906  58902.156250   \n",
       "2024-08-14 22:30:00  58916.050781  59014.472656  58847.753906  58981.777344   \n",
       "2024-08-14 23:00:00  58987.371094  59010.570312  58939.402344  58939.402344   \n",
       "2024-08-14 23:30:00  58954.160156  58954.160156  58732.335938  58749.320312   \n",
       "\n",
       "                        Adj Close     Volume  \n",
       "Datetime                                      \n",
       "2024-08-14 21:30:00  58906.050781   10428416  \n",
       "2024-08-14 22:00:00  58902.156250  189612032  \n",
       "2024-08-14 22:30:00  58981.777344   30433280  \n",
       "2024-08-14 23:00:00  58939.402344   55711744  \n",
       "2024-08-14 23:30:00  58749.320312   30574592  "
      ]
     },
     "execution_count": 32,
     "metadata": {},
     "output_type": "execute_result"
    }
   ],
   "source": [
    "btc_data.tail()"
   ]
  },
  {
   "cell_type": "code",
   "execution_count": 34,
   "metadata": {},
   "outputs": [],
   "source": [
    "btc_data['Return'] = btc_data['Close'].pct_change()\n",
    "btc_data['Open-Close'] = btc_data['Open'] - btc_data['Close']  # Open-Close difference\n",
    "btc_data['High-Low'] = btc_data['High'] - btc_data['Low'] \n",
    "\n",
    "btc_data.dropna(inplace=True)\n",
    "\n",
    "X = btc_data[['Open', 'High', 'Low', 'Close', 'Volume', 'Return', 'Open-Close', 'High-Low']].values\n",
    "y = btc_data['Close'].shift(-1).dropna().values\n",
    "\n",
    "# Align X with y after shift\n",
    "X = X[:-1]"
   ]
  },
  {
   "cell_type": "code",
   "execution_count": 35,
   "metadata": {},
   "outputs": [],
   "source": [
    "X_train, X_test, y_train, y_test = train_test_split(X, y, test_size=0.2, random_state=42)"
   ]
  },
  {
   "cell_type": "code",
   "execution_count": 36,
   "metadata": {},
   "outputs": [
    {
     "name": "stdout",
     "output_type": "stream",
     "text": [
      "Model Mean Squared Error: 105406.36062630369\n",
      "Model R^2 score: 0.9940980118608796\n"
     ]
    }
   ],
   "source": [
    "from sklearn.metrics import mean_squared_error\n",
    "\n",
    "model = LinearRegression()\n",
    "model.fit(X_train, y_train)\n",
    "\n",
    "y_pred = model.predict(X_test)\n",
    "mse = mean_squared_error(y_test, y_pred)\n",
    "print(f'Model Mean Squared Error: {mse}')\n",
    "print(f'Model R^2 score: {model.score(X_test, y_test)}')"
   ]
  },
  {
   "cell_type": "code",
   "execution_count": 45,
   "metadata": {},
   "outputs": [],
   "source": [
    "import numpy as np\n",
    "open_price = 56635.60\n",
    "high_price = 57100.00\n",
    "low_price = 56569.80\n",
    "\n",
    "X = np.array([open_price, high_price, low_price]).reshape(1, -1)\n",
    "\n"
   ]
  },
  {
   "cell_type": "code",
   "execution_count": 49,
   "metadata": {},
   "outputs": [],
   "source": [
    "# predicted_close =model.predict(X)[0]\n",
    "# print(predicted_close)"
   ]
  },
  {
   "cell_type": "code",
   "execution_count": 61,
   "metadata": {},
   "outputs": [
    {
     "name": "stdout",
     "output_type": "stream",
     "text": [
      "           Open          High           Low         Close     Adj Close  \\\n",
      "0  59112.960938  59112.960938  58906.050781  58906.050781  58906.050781   \n",
      "1  58924.429688  58945.265625  58584.503906  58902.156250  58902.156250   \n",
      "2  58916.050781  59014.472656  58847.753906  58981.777344  58981.777344   \n",
      "3  58987.371094  59010.570312  58939.402344  58939.402344  58939.402344   \n",
      "4  58954.160156  58954.160156  58732.335938  58749.320312  58749.320312   \n",
      "\n",
      "      Volume  \n",
      "0   10428416  \n",
      "1  189612032  \n",
      "2   30433280  \n",
      "3   55711744  \n",
      "4   30574592  \n"
     ]
    }
   ],
   "source": [
    "data = {\n",
    "    'Open':[59112.960938, 58924.429688, 58916.050781, 58987.371094, 58954.160156],\n",
    "    'High': [59112.960938, 58945.265625, 59014.472656, 59010.570312, 58954.160156],\n",
    "    'Low': [58906.050781, 58584.503906, 58847.753906, 58939.402344, 58732.335938],\n",
    "    'Close': [58906.050781, 58902.156250, 58981.777344, 58939.402344, 58749.320312],\n",
    "    'Adj Close': [58906.050781, 58902.156250, 58981.777344, 58939.402344, 58749.320312],\n",
    "    'Volume': [10428416, 189612032, 30433280, 55711744, 30574592]\n",
    "}\n",
    "\n",
    "df = pd.DataFrame(data)\n",
    "print(df)"
   ]
  },
  {
   "cell_type": "code",
   "execution_count": 62,
   "metadata": {},
   "outputs": [],
   "source": [
    "def calculate_return(previous_close, current_close):\n",
    "    return (current_close - previous_close) / previous_close \n",
    "\n",
    "# Calculate the return for the last row\n",
    "previous_close = df['Close'].iloc[-2]\n",
    "current_close = df['Close'].iloc[-1]\n",
    "return_value = calculate_return(previous_close, current_close)\n",
    "\n",
    "df['Return'] = return_value\n",
    "df['Open-Close'] = df['Open'].iloc[-1] - df['Close'].iloc[-1]   # Open-Close difference\n",
    "df['High-Low'] = df['High'].iloc[-1]  - df['Low'].iloc[-1]  "
   ]
  },
  {
   "cell_type": "code",
   "execution_count": 63,
   "metadata": {},
   "outputs": [
    {
     "name": "stdout",
     "output_type": "stream",
     "text": [
      "[[ 5.89541602e+04  5.89541602e+04  5.87323359e+04 -3.22504173e-03\n",
      "   2.04839844e+02  2.21824218e+02  5.87493203e+04  3.05745920e+07]]\n"
     ]
    }
   ],
   "source": [
    "\n",
    "# Prepare the input features\n",
    "last_row = df.iloc[-1]\n",
    "X = np.array([last_row['Open'], last_row['High'], last_row['Low'],  last_row['Return'],  last_row['Open-Close'],  last_row['High-Low'], last_row['Adj Close'], last_row['Volume'], ]).reshape(1, -1)\n",
    "print(X)"
   ]
  },
  {
   "cell_type": "code",
   "execution_count": 65,
   "metadata": {},
   "outputs": [
    {
     "name": "stdout",
     "output_type": "stream",
     "text": [
      "[-116979.25584602]\n"
     ]
    }
   ],
   "source": [
    "predicted_close =model.predict(X)\n",
    "print(predicted_close)"
   ]
  }
 ],
 "metadata": {
  "kernelspec": {
   "display_name": "venv",
   "language": "python",
   "name": "python3"
  },
  "language_info": {
   "codemirror_mode": {
    "name": "ipython",
    "version": 3
   },
   "file_extension": ".py",
   "mimetype": "text/x-python",
   "name": "python",
   "nbconvert_exporter": "python",
   "pygments_lexer": "ipython3",
   "version": "3.12.5"
  }
 },
 "nbformat": 4,
 "nbformat_minor": 2
}
